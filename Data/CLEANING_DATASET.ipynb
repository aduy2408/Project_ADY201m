{
 "cells": [
  {
   "cell_type": "code",
   "execution_count": 132,
   "metadata": {},
   "outputs": [],
   "source": [
    "\n",
    "import numpy as np\n",
    "import matplotlib.pyplot as plt\n",
    "# A library for data manipulation and analysis.\n",
    "import pandas as pd\n",
    "from sklearn.cluster import KMeans\n",
    "# Output of plotting commands is displayed inline within the Jupyter notebook.\n",
    "import seaborn as sns\n",
    "\n",
    "# # Set a seed so that the results are consistent.\n",
    "# np.random.seed(3) "
   ]
  },
  {
   "cell_type": "markdown",
   "metadata": {},
   "source": [
    "## CLEANING DATASET"
   ]
  },
  {
   "cell_type": "code",
   "execution_count": null,
   "metadata": {},
   "outputs": [],
   "source": [
    "df = pd.read_csv('scraped_data_only_gianha_2_new.csv',encoding='utf-8')\n",
    "df.rename(columns={'Diện tích':'area', \n",
    "                   'Mức giá' : 'price',\n",
    "                   'Số phòng ngủ': 'num_of_bedrooms',\n",
    "                   'Số toilet': 'num_of_toilets',\n",
    "                   'Pháp lý': 'legal_status',\n",
    "                   'Nội thất': 'furniture',\n",
    "                   'Latitude':'latitude',\n",
    "                   'Longitude':'longitude',\n",
    "                   'Mặt tiền': 'facade_width',\n",
    "                   'Đường vào': 'access_road_width',\n",
    "                   'Hướng nhà': 'house_direction', \n",
    "                   'Hướng ban công': 'balcony_direction', \n",
    "                   'Số tầng': 'num_of_stories'},\n",
    "                   inplace=True)\n",
    "df"
   ]
  },
  {
   "cell_type": "code",
   "execution_count": 134,
   "metadata": {},
   "outputs": [],
   "source": [
    "columns_to_drop = ['legal_status', 'furniture', 'facade_width', 'access_road_width', 'house_direction', 'balcony_direction','latitude','longitude']"
   ]
  },
  {
   "cell_type": "code",
   "execution_count": null,
   "metadata": {},
   "outputs": [],
   "source": [
    "df = df.drop(columns=columns_to_drop)\n",
    "df"
   ]
  },
  {
   "cell_type": "code",
   "execution_count": 136,
   "metadata": {},
   "outputs": [],
   "source": [
    "def clean_and_calculate_price(row):\n",
    "    price = row['price']\n",
    "    area = row['area']\n",
    "    \n",
    "    if not price or not area:\n",
    "        return None\n",
    "    \n",
    "    price = price.lower()\n",
    "    \n",
    "    if 'thỏa thuận' in price:\n",
    "        return None\n",
    "    \n",
    "    if 'triệu/m²' in price:\n",
    "        try:\n",
    "            price_per_m2 = float(price.replace('triệu/m²', '').strip().replace(',', '.'))\n",
    "            area_value = float(area.replace('m²', '').strip().replace(',', '.'))\n",
    "            total_price = (price_per_m2 * area_value) / 1000  # Convert to 'tỷ'\n",
    "            return total_price\n",
    "        except ValueError:\n",
    "            return None\n",
    "    \n",
    "    try:\n",
    "        if 'triệu' in price:\n",
    "            return float(price.replace('triệu', '').replace(',', '.').strip()) / 1000\n",
    "        elif 'tỷ' in price:\n",
    "            return float(price.replace('tỷ', '').replace(',', '.').strip())\n",
    "        else:\n",
    "            return None\n",
    "    except ValueError:\n",
    "        return None"
   ]
  },
  {
   "cell_type": "code",
   "execution_count": null,
   "metadata": {},
   "outputs": [],
   "source": [
    "df['price'] = df.apply(clean_and_calculate_price, axis=1)\n",
    "df.head(10)"
   ]
  },
  {
   "cell_type": "code",
   "execution_count": 138,
   "metadata": {},
   "outputs": [],
   "source": [
    "\n",
    "def clean_area(area):\n",
    "    if isinstance(area,str):\n",
    "        return float(area.lower().replace('m²','').replace('.','').replace(',','.').strip())\n",
    "    return area\n",
    "\n",
    "def clean_rooms(value):\n",
    "    if isinstance(value,str):\n",
    "        return float(value.lower().replace('phòng','').strip())\n",
    "    return value\n",
    "\n",
    "def clean_stories(value):\n",
    "    if isinstance(value, str):\n",
    "        if '5+' in value:\n",
    "            return None \n",
    "        value = value.lower().replace('tầng', '').strip() \n",
    "        return float(value)\n",
    "    return value"
   ]
  },
  {
   "cell_type": "code",
   "execution_count": null,
   "metadata": {},
   "outputs": [],
   "source": [
    "df['area'] = df['area'].apply(clean_area)\n",
    "df.head(10)\n"
   ]
  },
  {
   "cell_type": "code",
   "execution_count": null,
   "metadata": {},
   "outputs": [],
   "source": [
    "df['num_of_bedrooms'] = df['num_of_bedrooms'].apply(clean_rooms)\n",
    "df['num_of_toilets'] = df['num_of_toilets'].apply(clean_rooms)\n",
    "df['num_of_stories'] = df['num_of_stories'].apply(clean_stories)\n",
    "\n",
    "df.head(10)"
   ]
  },
  {
   "cell_type": "code",
   "execution_count": null,
   "metadata": {},
   "outputs": [],
   "source": [
    "df.count()"
   ]
  },
  {
   "cell_type": "code",
   "execution_count": 142,
   "metadata": {},
   "outputs": [],
   "source": [
    "def remove_outlier_usingIQR(df,column):\n",
    "    Q1 = df[column].quantile(0.25)\n",
    "    Q3 = df[column].quantile(0.75)\n",
    "    IQR = Q3 - Q1\n",
    "    lower_bound = Q1 - 1.5 * IQR\n",
    "    upper_bound = Q3 + 1.5 * IQR\n",
    "    return df[(df[column] >= lower_bound) & (df[column] <= upper_bound)]"
   ]
  },
  {
   "cell_type": "code",
   "execution_count": 143,
   "metadata": {},
   "outputs": [],
   "source": [
    "cleaned_df = df.copy()"
   ]
  },
  {
   "cell_type": "code",
   "execution_count": null,
   "metadata": {},
   "outputs": [],
   "source": [
    "columns_to_clean = ['area','price','num_of_stories','num_of_bedrooms','num_of_toilets']\n",
    "for column in columns_to_clean:\n",
    "    cleaned_df = remove_outlier_usingIQR(cleaned_df, column)\n",
    "cleaned_df.describe()"
   ]
  },
  {
   "cell_type": "code",
   "execution_count": null,
   "metadata": {},
   "outputs": [],
   "source": [
    "plt.figure(figsize=(10, 6))\n",
    "sns.scatterplot(x='area', y='price', data=df, alpha=0.6, size='price', sizes=(20, 200), hue='price', palette='viridis')\n",
    "plt.title('Area vs. Price')\n",
    "plt.xlabel('Area (m²)')\n",
    "plt.ylabel('Price (tỷ)')\n",
    "plt.grid(True)\n",
    "plt.legend(title='Price (tỷ)', bbox_to_anchor=(1.05, 1), loc='upper left')\n",
    "plt.show()"
   ]
  },
  {
   "cell_type": "code",
   "execution_count": null,
   "metadata": {},
   "outputs": [],
   "source": [
    "thresholds = [\n",
    "    (100, 2.5), \n",
    "    (175, 4.0), \n",
    "]\n",
    "\n",
    "for area_threshold, price_threshold in thresholds:\n",
    "    cleaned_df = cleaned_df[~((cleaned_df['area'] > area_threshold) & (cleaned_df['price'] < price_threshold))]\n",
    "\n",
    "cleaned_df.describe()"
   ]
  },
  {
   "cell_type": "code",
   "execution_count": null,
   "metadata": {},
   "outputs": [],
   "source": [
    "plt.figure(figsize=(10, 6))\n",
    "sns.scatterplot(x='area', y='price', data=cleaned_df, alpha=0.6, size='price', sizes=(20, 200), hue='price', palette='viridis')\n",
    "plt.title('Area vs. Price')\n",
    "plt.xlabel('Area (m²)')\n",
    "plt.ylabel('Price (tỷ)')\n",
    "plt.grid(True)\n",
    "plt.legend(title='Price (tỷ)', bbox_to_anchor=(1.05, 1), loc='upper left')\n",
    "plt.show()"
   ]
  },
  {
   "cell_type": "markdown",
   "metadata": {},
   "source": [
    "## CREATING DATABASE FOR CLEANED DATA"
   ]
  },
  {
   "cell_type": "code",
   "execution_count": 159,
   "metadata": {},
   "outputs": [],
   "source": [
    "import mysql.connector\n",
    "\n",
    "db = mysql.connector.connect(\n",
    "    host=\"localhost\",\n",
    "    user=\"root\",\n",
    "    passwd=\"2408\",\n",
    "    database=\"housing_data\"\n",
    "    )\n",
    "cursor = db.cursor()"
   ]
  },
  {
   "cell_type": "code",
   "execution_count": 165,
   "metadata": {},
   "outputs": [],
   "source": [
    "create_table_query = \"\"\"\n",
    "CREATE TABLE IF NOT EXISTS housing_data (\n",
    "    id INT AUTO_INCREMENT PRIMARY KEY,\n",
    "    area FLOAT,\n",
    "    price FLOAT,\n",
    "    num_of_bedrooms INT,\n",
    "    num_of_toilets INT,\n",
    "    num_of_stories INT\n",
    ")\n",
    "\"\"\"\n",
    "cursor.execute(create_table_query)"
   ]
  },
  {
   "cell_type": "code",
   "execution_count": 173,
   "metadata": {},
   "outputs": [],
   "source": [
    "sql = \"\"\"INSERT INTO `housing_data` (`area`, `price`, `num_of_bedrooms`, `num_of_toilets`, `num_of_stories`)\n",
    "         VALUES (%s, %s, %s, %s, %s)\"\"\"\n",
    "\n",
    "for index, row in cleaned_df.iterrows():\n",
    "    cursor.execute(sql, (row['area'], row['price'], row['num_of_bedrooms'], row['num_of_toilets'], row['num_of_stories']))\n",
    "\n",
    "db.commit()\n",
    "\n",
    "cursor.close()\n",
    "db.close()"
   ]
  }
 ],
 "metadata": {
  "kernelspec": {
   "display_name": "Python 3",
   "language": "python",
   "name": "python3"
  },
  "language_info": {
   "codemirror_mode": {
    "name": "ipython",
    "version": 3
   },
   "file_extension": ".py",
   "mimetype": "text/x-python",
   "name": "python",
   "nbconvert_exporter": "python",
   "pygments_lexer": "ipython3",
   "version": "3.10.12"
  }
 },
 "nbformat": 4,
 "nbformat_minor": 2
}
